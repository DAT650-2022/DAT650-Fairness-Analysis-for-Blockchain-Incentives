{
 "cells": [
  {
   "cell_type": "code",
   "execution_count": 8,
   "id": "cd8a6783",
   "metadata": {},
   "outputs": [],
   "source": [
    "import matplotlib.pyplot as plt\n",
    "from tabulate import tabulate\n",
    "from ml import runSimulation as ml \n",
    "from sl import runSimulation as sl\n",
    "from c import runSimulation as c"
   ]
  },
  {
   "cell_type": "code",
   "execution_count": null,
   "id": "a948ea2f",
   "metadata": {},
   "outputs": [
    {
     "name": "stdout",
     "output_type": "stream",
     "text": [
      "round:  0\n",
      "round:  1\n",
      "round:  2\n",
      "round:  3\n",
      "round:  4\n",
      "round:  5\n"
     ]
    }
   ],
   "source": [
    "# simulation (times, rounds, miners, bc)\n",
    "times=10\n",
    "rounds=100\n",
    "# bc(gensis_data, difficulty)\n",
    "bc=[\"0\",0.1]\n",
    "# miner: initial stake, name\n",
    "m1=[10 ,\"m1\"]\n",
    "m2=[5, \"m2\"]\n",
    "m3=[20, \"m3\"]\n",
    "m4=[2, \"m4\"]\n",
    "miners=[m1,m2,m3,m4]\n",
    "\n",
    "ml_result=ml(times,rounds,miners,bc)\n",
    "c_result=c(times, rounds,miners,bc)\n",
    "sl_result=sl(times, rounds,miners,bc)"
   ]
  },
  {
   "cell_type": "code",
   "execution_count": null,
   "id": "e1160cd3",
   "metadata": {},
   "outputs": [],
   "source": [
    "## plot\n",
    "## tables\n",
    "print(\"ml-pos\")\n",
    "print(tabulate(ml_result[\"table\"],headers='firstrow', tablefmt='grid'))\n",
    "print(\"c-pos\")\n",
    "print(tabulate(c_result[\"table\"],headers='firstrow', tablefmt='grid'))\n",
    "print(\"sl-pos\")\n",
    "print(tabulate(sl_result[\"table\"],headers='firstrow', tablefmt='grid'))\n",
    "\n",
    "\n",
    "# create data\n",
    "x=[\"m1\",\"m2\",\"m3\",\"m4\"]\n",
    "\n",
    "# ml-pos\n",
    "plt.figure(1,figsize=[20,5])\n",
    "plt.subplot(121)\n",
    "plt.plot(x,ml_result[\"initial_stake\"],label = \"initial stake\")\n",
    "plt.plot(x,ml_result[\"average_stakes\"], label = \"finnal stake\")\n",
    "plt.title(\"ml-pos\")\n",
    "plt.legend()\n",
    "# c-pos\n",
    "plt.subplot(122)\n",
    "plt.plot(x,c_result[\"initial_stake\"],label = \"initial stake\")\n",
    "plt.plot(x,c_result[\"average_stakes\"], label = \"finnal stake\")\n",
    "plt.title(\"c-pos\")\n",
    "plt.legend()\n",
    "plt.show()\n",
    "\n",
    "\n",
    "#  sl-pos\n",
    "plt.figure(1,figsize=[7,5])\n",
    "plt.plot(x,sl_result[\"initial_stake\"],label = \"initial stake\")\n",
    "plt.plot(x,sl_result[\"average_stakes\"], label = \"finnal stake\")\n",
    "plt.title(\"sl-pos\")\n",
    "plt.legend()\n",
    "plt.show()\n",
    "\n",
    "\n",
    "\n",
    "## plot block number\n",
    "plt.plot(x,ml_result[\"average_bn\"],label = \"ml-pos\")\n",
    "plt.plot(x,c_result[\"average_bn\"], label = \"c-pos\")\n",
    "plt.plot(x,sl_result[\"average_bn\"], label = \"sl-pos\")\n",
    "plt.title(\"average block founded by each miner\")\n",
    "plt.legend()\n",
    "plt.show()"
   ]
  },
  {
   "cell_type": "code",
   "execution_count": null,
   "id": "2e1016f0",
   "metadata": {},
   "outputs": [],
   "source": []
  }
 ],
 "metadata": {
  "kernelspec": {
   "display_name": "Python 3 (ipykernel)",
   "language": "python",
   "name": "python3"
  },
  "language_info": {
   "codemirror_mode": {
    "name": "ipython",
    "version": 3
   },
   "file_extension": ".py",
   "mimetype": "text/x-python",
   "name": "python",
   "nbconvert_exporter": "python",
   "pygments_lexer": "ipython3",
   "version": "3.9.13"
  }
 },
 "nbformat": 4,
 "nbformat_minor": 5
}
